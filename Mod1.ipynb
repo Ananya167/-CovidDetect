{
 "cells": [
  {
   "cell_type": "code",
   "execution_count": 1,
   "id": "bf9ac2fc",
   "metadata": {},
   "outputs": [],
   "source": [
    "#imports\n",
    "import numpy as np\n",
    "import matplotlib.pyplot as plt\n",
    "import pandas as pd\n",
    "\n",
    "\n",
    "import keras\n",
    "from keras.layers import Dense , Conv2D, MaxPool2D, Dropout, Flatten, BatchNormalization\n",
    "from keras.models import Sequential\n",
    "from keras.preprocessing import image\n",
    "\n"
   ]
  },
  {
   "cell_type": "code",
   "execution_count": 2,
   "id": "5e9efeb6",
   "metadata": {},
   "outputs": [
    {
     "name": "stdout",
     "output_type": "stream",
     "text": [
      "Found 224 images belonging to 2 classes.\n",
      "Found 60 images belonging to 2 classes.\n"
     ]
    }
   ],
   "source": [
    "#Load Data\n",
    "\n",
    "train_datagen=image.ImageDataGenerator(rescale=1/255,horizontal_flip=True, zoom_range=0.2,shear_range=0.2)\n",
    "\n",
    "train_data=train_datagen.flow_from_directory(directory=\"chestxray/CovidDataset/Train\",target_size=(256,256),batch_size=16,class_mode='binary')\n",
    "\n",
    "\n",
    "\n",
    "\n",
    "\n",
    "\n",
    "test_datagen=image.ImageDataGenerator(rescale=1/255)\n",
    "\n",
    "test_data=test_datagen.flow_from_directory(directory=\"chestxray/CovidDataset/Val\",target_size=(256,256),batch_size=16,class_mode='binary')\n"
   ]
  },
  {
   "cell_type": "code",
   "execution_count": 3,
   "id": "33667d7f",
   "metadata": {},
   "outputs": [
    {
     "data": {
      "text/plain": [
       "{'Normal': 0, 'covid': 1}"
      ]
     },
     "execution_count": 3,
     "metadata": {},
     "output_type": "execute_result"
    }
   ],
   "source": [
    "train_data.class_indices"
   ]
  },
  {
   "cell_type": "code",
   "execution_count": 4,
   "id": "b66708d0",
   "metadata": {},
   "outputs": [
    {
     "name": "stdout",
     "output_type": "stream",
     "text": [
      "Model: \"sequential\"\n",
      "_________________________________________________________________\n",
      "Layer (type)                 Output Shape              Param #   \n",
      "=================================================================\n",
      "conv2d (Conv2D)              (None, 254, 254, 32)      896       \n",
      "_________________________________________________________________\n",
      "conv2d_1 (Conv2D)            (None, 252, 252, 64)      18496     \n",
      "_________________________________________________________________\n",
      "max_pooling2d (MaxPooling2D) (None, 126, 126, 64)      0         \n",
      "_________________________________________________________________\n",
      "dropout (Dropout)            (None, 126, 126, 64)      0         \n",
      "_________________________________________________________________\n",
      "conv2d_2 (Conv2D)            (None, 124, 124, 64)      36928     \n",
      "_________________________________________________________________\n",
      "max_pooling2d_1 (MaxPooling2 (None, 62, 62, 64)        0         \n",
      "_________________________________________________________________\n",
      "dropout_1 (Dropout)          (None, 62, 62, 64)        0         \n",
      "_________________________________________________________________\n",
      "conv2d_3 (Conv2D)            (None, 60, 60, 128)       73856     \n",
      "_________________________________________________________________\n",
      "max_pooling2d_2 (MaxPooling2 (None, 30, 30, 128)       0         \n",
      "_________________________________________________________________\n",
      "dropout_2 (Dropout)          (None, 30, 30, 128)       0         \n",
      "_________________________________________________________________\n",
      "flatten (Flatten)            (None, 115200)            0         \n",
      "_________________________________________________________________\n",
      "dense (Dense)                (None, 64)                7372864   \n",
      "_________________________________________________________________\n",
      "dropout_3 (Dropout)          (None, 64)                0         \n",
      "_________________________________________________________________\n",
      "dense_1 (Dense)              (None, 1)                 65        \n",
      "=================================================================\n",
      "Total params: 7,503,105\n",
      "Trainable params: 7,503,105\n",
      "Non-trainable params: 0\n",
      "_________________________________________________________________\n"
     ]
    },
    {
     "name": "stderr",
     "output_type": "stream",
     "text": [
      "F:\\MY_LENOVO_USERS\\python\\lib\\site-packages\\keras\\engine\\training.py:1915: UserWarning: `Model.fit_generator` is deprecated and will be removed in a future version. Please use `Model.fit`, which supports generators.\n",
      "  warnings.warn('`Model.fit_generator` is deprecated and '\n"
     ]
    },
    {
     "name": "stdout",
     "output_type": "stream",
     "text": [
      "Epoch 1/10\n",
      "8/8 [==============================] - 55s 5s/step - loss: 2.3915 - acc: 0.5977 - val_loss: 0.6922 - val_acc: 0.4375\n",
      "Epoch 2/10\n",
      "8/8 [==============================] - 35s 4s/step - loss: 0.6508 - acc: 0.5928 - val_loss: 0.6397 - val_acc: 0.9688\n",
      "Epoch 3/10\n",
      "8/8 [==============================] - 33s 4s/step - loss: 0.5552 - acc: 0.6622 - val_loss: 0.4170 - val_acc: 0.9375\n",
      "Epoch 4/10\n",
      "8/8 [==============================] - 31s 4s/step - loss: 0.3978 - acc: 0.8690 - val_loss: 0.4977 - val_acc: 0.9688\n",
      "Epoch 5/10\n",
      "8/8 [==============================] - 31s 4s/step - loss: 0.3372 - acc: 0.8201 - val_loss: 0.3081 - val_acc: 0.9688\n",
      "Epoch 6/10\n",
      "8/8 [==============================] - 23s 3s/step - loss: 0.1993 - acc: 0.9433 - val_loss: 0.5134 - val_acc: 0.9688\n",
      "Epoch 7/10\n",
      "8/8 [==============================] - 22s 3s/step - loss: 0.2359 - acc: 0.9125 - val_loss: 0.1695 - val_acc: 0.9375\n",
      "Epoch 8/10\n",
      "8/8 [==============================] - 22s 3s/step - loss: 0.1259 - acc: 0.9591 - val_loss: 0.1435 - val_acc: 0.9688\n",
      "Epoch 9/10\n",
      "8/8 [==============================] - 22s 3s/step - loss: 0.1590 - acc: 0.9523 - val_loss: 0.2737 - val_acc: 1.0000\n",
      "Epoch 10/10\n",
      "8/8 [==============================] - 22s 3s/step - loss: 0.1707 - acc: 0.9531 - val_loss: 0.1540 - val_acc: 0.9375\n"
     ]
    },
    {
     "data": {
      "text/plain": [
       "<keras.callbacks.History at 0x1eb4b7e2700>"
      ]
     },
     "execution_count": 4,
     "metadata": {},
     "output_type": "execute_result"
    }
   ],
   "source": [
    "\n",
    "#CNN Model\n",
    "\n",
    "model=Sequential()\n",
    "model.add(Conv2D(filters=32,kernel_size=(3,3),activation='relu',input_shape=(256,256,3)))\n",
    "\n",
    "model.add(Conv2D(filters=64,kernel_size=(3,3),activation='relu'))\n",
    "model.add(MaxPool2D())\n",
    "model.add(Dropout(rate=0.25))\n",
    "\n",
    "\n",
    "\n",
    "model.add(Conv2D(filters=64,kernel_size=(3,3),activation='relu'))\n",
    "model.add(MaxPool2D())\n",
    "model.add(Dropout(rate=0.25))\n",
    "\n",
    "\n",
    "model.add(Conv2D(filters=128,kernel_size=(3,3),activation='relu'))\n",
    "model.add(MaxPool2D())\n",
    "model.add(Dropout(rate=0.25))\n",
    "\n",
    "model.add(Flatten())\n",
    "model.add(Dense(units=64,activation='relu'))\n",
    "model.add(Dropout(rate=0.50))\n",
    "model.add(Dense(units=1,activation='sigmoid'))\n",
    "\n",
    "model.compile(loss=keras.losses.binary_crossentropy,optimizer=\"adam\",metrics=['acc'])\n",
    "\n",
    "\n",
    "\n",
    "model.summary()\n",
    "\n",
    "\n",
    "\n",
    "model.fit_generator(train_data,steps_per_epoch=8,epochs=10,validation_steps=2,validation_data=test_data)\n"
   ]
  },
  {
   "cell_type": "code",
   "execution_count": 8,
   "id": "36e5e51f",
   "metadata": {},
   "outputs": [
    {
     "data": {
      "text/plain": [
       "(1, 256, 256, 3)"
      ]
     },
     "execution_count": 8,
     "metadata": {},
     "output_type": "execute_result"
    }
   ],
   "source": [
    "path=\"chestxray/test_dataset/covid-19-pneumonia-12.jpg\"\n",
    "img=image.load_img(path,target_size=(256,256))\n",
    "img=image.img_to_array(img)/255\n",
    "img=np.array([img])\n",
    "img.shape"
   ]
  },
  {
   "cell_type": "markdown",
   "id": "5be54ed8",
   "metadata": {},
   "source": []
  },
  {
   "cell_type": "code",
   "execution_count": 9,
   "id": "45ddee66",
   "metadata": {},
   "outputs": [
    {
     "name": "stderr",
     "output_type": "stream",
     "text": [
      "F:\\MY_LENOVO_USERS\\python\\lib\\site-packages\\keras\\engine\\sequential.py:450: UserWarning: `model.predict_classes()` is deprecated and will be removed after 2021-01-01. Please use instead:* `np.argmax(model.predict(x), axis=-1)`,   if your model does multi-class classification   (e.g. if it uses a `softmax` last-layer activation).* `(model.predict(x) > 0.5).astype(\"int32\")`,   if your model does binary classification   (e.g. if it uses a `sigmoid` last-layer activation).\n",
      "  warnings.warn('`model.predict_classes()` is deprecated and '\n"
     ]
    },
    {
     "data": {
      "text/plain": [
       "array([[1]])"
      ]
     },
     "execution_count": 9,
     "metadata": {},
     "output_type": "execute_result"
    }
   ],
   "source": [
    "\n",
    "\n",
    "model.predict_classes(img)"
   ]
  },
  {
   "cell_type": "code",
   "execution_count": 19,
   "id": "28aee488",
   "metadata": {},
   "outputs": [
    {
     "data": {
      "text/plain": [
       "'\\ntrain_datagen = image.ImageDataGenerator(\\n    rescale = 1./255,\\n    shear_range = 0.2,\\n    zoom_range = 0.2,\\n    horizontal_flip = True,\\n)\\ntest_dataset = image.ImageDataGenerator(rescale=1./255)\\ntrain_generator = train_datagen.flow_from_directory(\\n    \"CovidDataset/Train\"\\n    target_size = (244,244),\\n    batch_size = 32,\\n    class_mode = \\'binary\\'\\n)\\ntrain_generator.class_indices\\nvalidation_generator = test_dataset.flow_from_directory(\\n    \"CovidDataset/Val\"\\n    target_size = (244,244),\\n    batch_size = 32,\\n    class_mode = \\'binary\\'\\n)\\nhist=model.fit.generator(\\n    train_generator,\\n    steps_per_epoch=8,\\n    epochs=10,\\n    validation_data=validation_generator,\\n    validation_steps=2\\n)\\n'"
      ]
     },
     "execution_count": 19,
     "metadata": {},
     "output_type": "execute_result"
    }
   ],
   "source": [
    "'''\n",
    "train_datagen = image.ImageDataGenerator(\n",
    "    rescale = 1./255,\n",
    "    shear_range = 0.2,\n",
    "    zoom_range = 0.2,\n",
    "    horizontal_flip = True,\n",
    ")\n",
    "test_dataset = image.ImageDataGenerator(rescale=1./255)\n",
    "train_generator = train_datagen.flow_from_directory(\n",
    "    \"CovidDataset/Train\"\n",
    "    target_size = (244,244),\n",
    "    batch_size = 32,\n",
    "    class_mode = 'binary'\n",
    ")\n",
    "train_generator.class_indices\n",
    "validation_generator = test_dataset.flow_from_directory(\n",
    "    \"CovidDataset/Val\"\n",
    "    target_size = (244,244),\n",
    "    batch_size = 32,\n",
    "    class_mode = 'binary'\n",
    ")\n",
    "hist=model.fit.generator(\n",
    "    train_generator,\n",
    "    steps_per_epoch=8,\n",
    "    epochs=10,\n",
    "    validation_data=validation_generator,\n",
    "    validation_steps=2\n",
    ")\n",
    "'''''"
   ]
  },
  {
   "cell_type": "code",
   "execution_count": 6,
   "id": "94f9fcb9",
   "metadata": {},
   "outputs": [
    {
     "name": "stdout",
     "output_type": "stream",
     "text": [
      "Saved model to disk\n"
     ]
    }
   ],
   "source": [
    "# serialize model to JSON\n",
    "from keras.models import model_from_json, load_model\n",
    "\n",
    "model_json = model.to_json()\n",
    "with open(\"model.json\", \"w\") as json_file:\n",
    "    json_file.write(model_json)\n",
    "# serialize weights to HDF5\n",
    "model.save_weights(\"modelw.h5\")\n",
    "model.save('model.h5')\n",
    "print(\"Saved model to disk\")\n",
    "load_model('model.h5')\n",
    " \n",
    "# later...\n",
    " \n",
    "# load json and create model\n",
    "json_file = open('model.json', 'r')\n",
    "loaded_model_json = json_file.read()\n",
    "json_file.close()\n",
    "loaded_model = model_from_json(loaded_model_json)\n",
    "# load weights into new model\n",
    "loaded_model.load_weights(\"modelw.h5\")\n"
   ]
  },
  {
   "cell_type": "code",
   "execution_count": null,
   "id": "1bb5e176",
   "metadata": {},
   "outputs": [],
   "source": [
    "\n"
   ]
  }
 ],
 "metadata": {
  "kernelspec": {
   "display_name": "Python 3 (ipykernel)",
   "language": "python",
   "name": "python3"
  },
  "language_info": {
   "codemirror_mode": {
    "name": "ipython",
    "version": 3
   },
   "file_extension": ".py",
   "mimetype": "text/x-python",
   "name": "python",
   "nbconvert_exporter": "python",
   "pygments_lexer": "ipython3",
   "version": "3.9.6"
  }
 },
 "nbformat": 4,
 "nbformat_minor": 5
}
